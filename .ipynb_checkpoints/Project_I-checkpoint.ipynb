{
 "cells": [
  {
   "cell_type": "markdown",
   "id": "6f809d3b",
   "metadata": {},
   "source": [
    "## Gapminder Project"
   ]
  },
  {
   "cell_type": "markdown",
   "id": "f0f79d5c",
   "metadata": {},
   "source": [
    "#### Import libraries"
   ]
  },
  {
   "cell_type": "code",
   "execution_count": 2,
   "id": "c11b343e",
   "metadata": {},
   "outputs": [],
   "source": [
    "import pandas as pd\n",
    "import seaborn as sns\n",
    "import matplotlib.pyplot as plt \n",
    "import imageio"
   ]
  },
  {
   "cell_type": "markdown",
   "id": "379c5267",
   "metadata": {},
   "source": [
    "#### Dataset Readout"
   ]
  },
  {
   "cell_type": "code",
   "execution_count": 3,
   "id": "85fd2f7a",
   "metadata": {},
   "outputs": [
    {
     "data": {
      "text/html": [
       "<div>\n",
       "<style scoped>\n",
       "    .dataframe tbody tr th:only-of-type {\n",
       "        vertical-align: middle;\n",
       "    }\n",
       "\n",
       "    .dataframe tbody tr th {\n",
       "        vertical-align: top;\n",
       "    }\n",
       "\n",
       "    .dataframe thead th {\n",
       "        text-align: right;\n",
       "    }\n",
       "</style>\n",
       "<table border=\"1\" class=\"dataframe\">\n",
       "  <thead>\n",
       "    <tr style=\"text-align: right;\">\n",
       "      <th></th>\n",
       "      <th>1800</th>\n",
       "      <th>1801</th>\n",
       "      <th>1802</th>\n",
       "      <th>1803</th>\n",
       "      <th>1804</th>\n",
       "      <th>1805</th>\n",
       "      <th>1806</th>\n",
       "      <th>1807</th>\n",
       "      <th>1808</th>\n",
       "      <th>1809</th>\n",
       "      <th>...</th>\n",
       "      <th>2006</th>\n",
       "      <th>2007</th>\n",
       "      <th>2008</th>\n",
       "      <th>2009</th>\n",
       "      <th>2010</th>\n",
       "      <th>2011</th>\n",
       "      <th>2012</th>\n",
       "      <th>2013</th>\n",
       "      <th>2014</th>\n",
       "      <th>2015</th>\n",
       "    </tr>\n",
       "    <tr>\n",
       "      <th>Total fertility rate</th>\n",
       "      <th></th>\n",
       "      <th></th>\n",
       "      <th></th>\n",
       "      <th></th>\n",
       "      <th></th>\n",
       "      <th></th>\n",
       "      <th></th>\n",
       "      <th></th>\n",
       "      <th></th>\n",
       "      <th></th>\n",
       "      <th></th>\n",
       "      <th></th>\n",
       "      <th></th>\n",
       "      <th></th>\n",
       "      <th></th>\n",
       "      <th></th>\n",
       "      <th></th>\n",
       "      <th></th>\n",
       "      <th></th>\n",
       "      <th></th>\n",
       "      <th></th>\n",
       "    </tr>\n",
       "  </thead>\n",
       "  <tbody>\n",
       "    <tr>\n",
       "      <th>Abkhazia</th>\n",
       "      <td>NaN</td>\n",
       "      <td>NaN</td>\n",
       "      <td>NaN</td>\n",
       "      <td>NaN</td>\n",
       "      <td>NaN</td>\n",
       "      <td>NaN</td>\n",
       "      <td>NaN</td>\n",
       "      <td>NaN</td>\n",
       "      <td>NaN</td>\n",
       "      <td>NaN</td>\n",
       "      <td>...</td>\n",
       "      <td>NaN</td>\n",
       "      <td>NaN</td>\n",
       "      <td>NaN</td>\n",
       "      <td>NaN</td>\n",
       "      <td>NaN</td>\n",
       "      <td>NaN</td>\n",
       "      <td>NaN</td>\n",
       "      <td>NaN</td>\n",
       "      <td>NaN</td>\n",
       "      <td>NaN</td>\n",
       "    </tr>\n",
       "    <tr>\n",
       "      <th>Afghanistan</th>\n",
       "      <td>7.00</td>\n",
       "      <td>7.00</td>\n",
       "      <td>7.00</td>\n",
       "      <td>7.00</td>\n",
       "      <td>7.00</td>\n",
       "      <td>7.00</td>\n",
       "      <td>7.00</td>\n",
       "      <td>7.00</td>\n",
       "      <td>7.00</td>\n",
       "      <td>7.00</td>\n",
       "      <td>...</td>\n",
       "      <td>6.70</td>\n",
       "      <td>6.46</td>\n",
       "      <td>6.20</td>\n",
       "      <td>5.93</td>\n",
       "      <td>5.66</td>\n",
       "      <td>5.40</td>\n",
       "      <td>5.14</td>\n",
       "      <td>4.90</td>\n",
       "      <td>4.68</td>\n",
       "      <td>4.47</td>\n",
       "    </tr>\n",
       "    <tr>\n",
       "      <th>Akrotiri and Dhekelia</th>\n",
       "      <td>NaN</td>\n",
       "      <td>NaN</td>\n",
       "      <td>NaN</td>\n",
       "      <td>NaN</td>\n",
       "      <td>NaN</td>\n",
       "      <td>NaN</td>\n",
       "      <td>NaN</td>\n",
       "      <td>NaN</td>\n",
       "      <td>NaN</td>\n",
       "      <td>NaN</td>\n",
       "      <td>...</td>\n",
       "      <td>NaN</td>\n",
       "      <td>NaN</td>\n",
       "      <td>NaN</td>\n",
       "      <td>NaN</td>\n",
       "      <td>NaN</td>\n",
       "      <td>NaN</td>\n",
       "      <td>NaN</td>\n",
       "      <td>NaN</td>\n",
       "      <td>NaN</td>\n",
       "      <td>NaN</td>\n",
       "    </tr>\n",
       "    <tr>\n",
       "      <th>Albania</th>\n",
       "      <td>4.60</td>\n",
       "      <td>4.60</td>\n",
       "      <td>4.60</td>\n",
       "      <td>4.60</td>\n",
       "      <td>4.60</td>\n",
       "      <td>4.60</td>\n",
       "      <td>4.60</td>\n",
       "      <td>4.60</td>\n",
       "      <td>4.60</td>\n",
       "      <td>4.60</td>\n",
       "      <td>...</td>\n",
       "      <td>1.85</td>\n",
       "      <td>1.80</td>\n",
       "      <td>1.76</td>\n",
       "      <td>1.74</td>\n",
       "      <td>1.74</td>\n",
       "      <td>1.75</td>\n",
       "      <td>1.76</td>\n",
       "      <td>1.77</td>\n",
       "      <td>1.78</td>\n",
       "      <td>1.78</td>\n",
       "    </tr>\n",
       "    <tr>\n",
       "      <th>Algeria</th>\n",
       "      <td>6.99</td>\n",
       "      <td>6.99</td>\n",
       "      <td>6.99</td>\n",
       "      <td>6.99</td>\n",
       "      <td>6.99</td>\n",
       "      <td>6.99</td>\n",
       "      <td>6.99</td>\n",
       "      <td>6.99</td>\n",
       "      <td>6.99</td>\n",
       "      <td>6.99</td>\n",
       "      <td>...</td>\n",
       "      <td>2.58</td>\n",
       "      <td>2.66</td>\n",
       "      <td>2.73</td>\n",
       "      <td>2.78</td>\n",
       "      <td>2.82</td>\n",
       "      <td>2.83</td>\n",
       "      <td>2.82</td>\n",
       "      <td>2.80</td>\n",
       "      <td>2.76</td>\n",
       "      <td>2.71</td>\n",
       "    </tr>\n",
       "  </tbody>\n",
       "</table>\n",
       "<p>5 rows × 216 columns</p>\n",
       "</div>"
      ],
      "text/plain": [
       "                       1800  1801  1802  1803  1804  1805  1806  1807  1808  \\\n",
       "Total fertility rate                                                          \n",
       "Abkhazia                NaN   NaN   NaN   NaN   NaN   NaN   NaN   NaN   NaN   \n",
       "Afghanistan            7.00  7.00  7.00  7.00  7.00  7.00  7.00  7.00  7.00   \n",
       "Akrotiri and Dhekelia   NaN   NaN   NaN   NaN   NaN   NaN   NaN   NaN   NaN   \n",
       "Albania                4.60  4.60  4.60  4.60  4.60  4.60  4.60  4.60  4.60   \n",
       "Algeria                6.99  6.99  6.99  6.99  6.99  6.99  6.99  6.99  6.99   \n",
       "\n",
       "                       1809  ...  2006  2007  2008  2009  2010  2011  2012  \\\n",
       "Total fertility rate         ...                                             \n",
       "Abkhazia                NaN  ...   NaN   NaN   NaN   NaN   NaN   NaN   NaN   \n",
       "Afghanistan            7.00  ...  6.70  6.46  6.20  5.93  5.66  5.40  5.14   \n",
       "Akrotiri and Dhekelia   NaN  ...   NaN   NaN   NaN   NaN   NaN   NaN   NaN   \n",
       "Albania                4.60  ...  1.85  1.80  1.76  1.74  1.74  1.75  1.76   \n",
       "Algeria                6.99  ...  2.58  2.66  2.73  2.78  2.82  2.83  2.82   \n",
       "\n",
       "                       2013  2014  2015  \n",
       "Total fertility rate                     \n",
       "Abkhazia                NaN   NaN   NaN  \n",
       "Afghanistan            4.90  4.68  4.47  \n",
       "Akrotiri and Dhekelia   NaN   NaN   NaN  \n",
       "Albania                1.77  1.78  1.78  \n",
       "Algeria                2.80  2.76  2.71  \n",
       "\n",
       "[5 rows x 216 columns]"
      ]
     },
     "execution_count": 3,
     "metadata": {},
     "output_type": "execute_result"
    }
   ],
   "source": [
    "# Dataframe for Fertility\n",
    "fert = pd.read_csv('/Users/andrea/Desktop/Final_Projects/Week1/data/gapminder_total_fertility.csv', index_col=0)\n",
    "fert.head(5)"
   ]
  },
  {
   "cell_type": "code",
   "execution_count": 4,
   "id": "80958700",
   "metadata": {},
   "outputs": [],
   "source": [
    "# Dataframe for Life Expectancy\n",
    "life = pd.read_excel('/Users/andrea/Desktop/Final_Projects/Week1/data/gapminder_lifeexpectancy.xlsx', index_col=0)\n",
    "#life.head(5)"
   ]
  },
  {
   "cell_type": "code",
   "execution_count": 5,
   "id": "2611208a",
   "metadata": {},
   "outputs": [],
   "source": [
    "# Dataframe for Population\n",
    "pop = pd.read_excel('/Users/andrea/Desktop/Final_Projects/Week1/data/gapminder_population.xlsx', index_col=0)\n",
    "#popl.head(5)"
   ]
  },
  {
   "cell_type": "code",
   "execution_count": 6,
   "id": "fda5896f",
   "metadata": {},
   "outputs": [],
   "source": [
    "# Dataframe for Continents\n",
    "cont = pd.read_csv('/Users/andrea/Desktop/Final_Projects/Week1/data/continents.csv', sep=';')\n",
    "#cont.head(5)"
   ]
  },
  {
   "cell_type": "markdown",
   "id": "372bfe27",
   "metadata": {},
   "source": [
    "#### Data Inspection"
   ]
  },
  {
   "cell_type": "code",
   "execution_count": 7,
   "id": "2574a8f6",
   "metadata": {},
   "outputs": [
    {
     "name": "stdout",
     "output_type": "stream",
     "text": [
      "Fertility dataframe shape: (260, 216)\n",
      "Life Expectancy dataframe shape: (260, 217)\n",
      "Population dataframe shape: (275, 81)\n",
      "Continents dataframe shape: (194, 2)\n"
     ]
    }
   ],
   "source": [
    "print(\"Fertility dataframe shape:\", fert.shape)\n",
    "print(\"Life Expectancy dataframe shape:\", life.shape)\n",
    "print(\"Population dataframe shape:\", pop.shape)\n",
    "print(\"Continents dataframe shape:\", cont.shape)"
   ]
  },
  {
   "cell_type": "markdown",
   "id": "9f722068",
   "metadata": {},
   "source": [
    "#### Data Wrangling: Fertility "
   ]
  },
  {
   "cell_type": "code",
   "execution_count": 8,
   "id": "4d836924",
   "metadata": {},
   "outputs": [
    {
     "data": {
      "text/plain": [
       "Int64Index([1800, 1801, 1802, 1803, 1804, 1805, 1806, 1807, 1808, 1809,\n",
       "            ...\n",
       "            2006, 2007, 2008, 2009, 2010, 2011, 2012, 2013, 2014, 2015],\n",
       "           dtype='int64', length=216)"
      ]
     },
     "execution_count": 8,
     "metadata": {},
     "output_type": "execute_result"
    }
   ],
   "source": [
    "fert.columns = fert.columns.astype('int64')\n",
    "fert.columns"
   ]
  },
  {
   "cell_type": "code",
   "execution_count": 9,
   "id": "3709f602",
   "metadata": {},
   "outputs": [
    {
     "data": {
      "text/plain": [
       "Index(['Abkhazia', 'Afghanistan', 'Akrotiri and Dhekelia', 'Albania',\n",
       "       'Algeria', 'American Samoa', 'Andorra', 'Angola', 'Anguilla',\n",
       "       'Antigua and Barbuda',\n",
       "       ...\n",
       "       'Vietnam', 'Virgin Islands (U.S.)', 'North Yemen (former)',\n",
       "       'South Yemen (former)', 'Yemen', 'Yugoslavia', 'Zambia', 'Zimbabwe',\n",
       "       'Åland', 'Åland'],\n",
       "      dtype='object', name='country', length=260)"
      ]
     },
     "execution_count": 9,
     "metadata": {},
     "output_type": "execute_result"
    }
   ],
   "source": [
    "fert.index.name = 'country'\n",
    "fert.index"
   ]
  },
  {
   "cell_type": "code",
   "execution_count": 10,
   "id": "e46ad735",
   "metadata": {},
   "outputs": [],
   "source": [
    "fert = fert.reset_index()\n",
    "fert = fert.melt(id_vars=['country'], var_name='year', value_name='fertility rate')"
   ]
  },
  {
   "cell_type": "code",
   "execution_count": 11,
   "id": "18d9e555",
   "metadata": {},
   "outputs": [
    {
     "data": {
      "text/html": [
       "<div>\n",
       "<style scoped>\n",
       "    .dataframe tbody tr th:only-of-type {\n",
       "        vertical-align: middle;\n",
       "    }\n",
       "\n",
       "    .dataframe tbody tr th {\n",
       "        vertical-align: top;\n",
       "    }\n",
       "\n",
       "    .dataframe thead th {\n",
       "        text-align: right;\n",
       "    }\n",
       "</style>\n",
       "<table border=\"1\" class=\"dataframe\">\n",
       "  <thead>\n",
       "    <tr style=\"text-align: right;\">\n",
       "      <th></th>\n",
       "      <th>country</th>\n",
       "      <th>year</th>\n",
       "      <th>fertility rate</th>\n",
       "    </tr>\n",
       "  </thead>\n",
       "  <tbody>\n",
       "    <tr>\n",
       "      <th>43479</th>\n",
       "      <td>Denmark</td>\n",
       "      <td>1967</td>\n",
       "      <td>2.35</td>\n",
       "    </tr>\n",
       "    <tr>\n",
       "      <th>50583</th>\n",
       "      <td>Mayotte</td>\n",
       "      <td>1994</td>\n",
       "      <td>4.93</td>\n",
       "    </tr>\n",
       "    <tr>\n",
       "      <th>38958</th>\n",
       "      <td>Sweden</td>\n",
       "      <td>1949</td>\n",
       "      <td>2.37</td>\n",
       "    </tr>\n",
       "    <tr>\n",
       "      <th>30865</th>\n",
       "      <td>Russia</td>\n",
       "      <td>1918</td>\n",
       "      <td>5.72</td>\n",
       "    </tr>\n",
       "    <tr>\n",
       "      <th>25200</th>\n",
       "      <td>United States</td>\n",
       "      <td>1896</td>\n",
       "      <td>4.03</td>\n",
       "    </tr>\n",
       "  </tbody>\n",
       "</table>\n",
       "</div>"
      ],
      "text/plain": [
       "             country  year  fertility rate\n",
       "43479        Denmark  1967            2.35\n",
       "50583        Mayotte  1994            4.93\n",
       "38958         Sweden  1949            2.37\n",
       "30865         Russia  1918            5.72\n",
       "25200  United States  1896            4.03"
      ]
     },
     "execution_count": 11,
     "metadata": {},
     "output_type": "execute_result"
    }
   ],
   "source": [
    "fert.sample(5)"
   ]
  },
  {
   "cell_type": "markdown",
   "id": "69def890",
   "metadata": {},
   "source": [
    "#### Data Wrangling: Life Expectancy"
   ]
  },
  {
   "cell_type": "code",
   "execution_count": 12,
   "id": "d258a61e",
   "metadata": {},
   "outputs": [
    {
     "data": {
      "text/plain": [
       "Int64Index([1800, 1801, 1802, 1803, 1804, 1805, 1806, 1807, 1808, 1809,\n",
       "            ...\n",
       "            2007, 2008, 2009, 2010, 2011, 2012, 2013, 2014, 2015, 2016],\n",
       "           dtype='int64', length=217)"
      ]
     },
     "execution_count": 12,
     "metadata": {},
     "output_type": "execute_result"
    }
   ],
   "source": [
    "life.columns = life.columns.astype('int64')\n",
    "life.columns"
   ]
  },
  {
   "cell_type": "code",
   "execution_count": 13,
   "id": "932d3024",
   "metadata": {},
   "outputs": [
    {
     "data": {
      "text/plain": [
       "Index(['Abkhazia', 'Afghanistan', 'Akrotiri and Dhekelia', 'Albania',\n",
       "       'Algeria', 'American Samoa', 'Andorra', 'Angola', 'Anguilla',\n",
       "       'Antigua and Barbuda',\n",
       "       ...\n",
       "       'Vietnam', 'Virgin Islands (U.S.)', 'North Yemen (former)',\n",
       "       'South Yemen (former)', 'Yemen', 'Yugoslavia', 'Zambia', 'Zimbabwe',\n",
       "       'Åland', 'South Sudan'],\n",
       "      dtype='object', name='country', length=260)"
      ]
     },
     "execution_count": 13,
     "metadata": {},
     "output_type": "execute_result"
    }
   ],
   "source": [
    "life.index.name = 'country'\n",
    "life.index"
   ]
  },
  {
   "cell_type": "code",
   "execution_count": 14,
   "id": "56745d23",
   "metadata": {},
   "outputs": [
    {
     "data": {
      "text/plain": [
       "<bound method NDFrame.head of                         1800   1801   1802   1803   1804   1805   1806   1807  \\\n",
       "country                                                                         \n",
       "Abkhazia                 NaN    NaN    NaN    NaN    NaN    NaN    NaN    NaN   \n",
       "Afghanistan            28.21  28.20  28.19  28.18  28.17  28.16  28.15  28.14   \n",
       "Akrotiri and Dhekelia    NaN    NaN    NaN    NaN    NaN    NaN    NaN    NaN   \n",
       "Albania                35.40  35.40  35.40  35.40  35.40  35.40  35.40  35.40   \n",
       "Algeria                28.82  28.82  28.82  28.82  28.82  28.82  28.82  28.82   \n",
       "...                      ...    ...    ...    ...    ...    ...    ...    ...   \n",
       "Yugoslavia               NaN    NaN    NaN    NaN    NaN    NaN    NaN    NaN   \n",
       "Zambia                 32.60  32.60  32.60  32.60  32.60  32.60  32.60  32.60   \n",
       "Zimbabwe               33.70  33.70  33.70  33.70  33.70  33.70  33.70  33.70   \n",
       "Åland                    NaN    NaN    NaN    NaN    NaN    NaN    NaN    NaN   \n",
       "South Sudan            26.67  26.67  26.67  26.67  26.67  26.67  26.67  26.67   \n",
       "\n",
       "                        1808   1809  ...  2007  2008  2009  2010  2011  2012  \\\n",
       "country                              ...                                       \n",
       "Abkhazia                 NaN    NaN  ...   NaN   NaN   NaN   NaN   NaN   NaN   \n",
       "Afghanistan            28.13  28.12  ...  52.4  52.8  53.3  53.6  54.0  54.4   \n",
       "Akrotiri and Dhekelia    NaN    NaN  ...   NaN   NaN   NaN   NaN   NaN   NaN   \n",
       "Albania                35.40  35.40  ...  76.6  76.8  77.0  77.2  77.4  77.5   \n",
       "Algeria                28.82  28.82  ...  75.3  75.5  75.7  76.0  76.1  76.2   \n",
       "...                      ...    ...  ...   ...   ...   ...   ...   ...   ...   \n",
       "Yugoslavia               NaN    NaN  ...   NaN   NaN   NaN   NaN   NaN   NaN   \n",
       "Zambia                 32.60  32.60  ...  49.0  51.1  52.3  53.1  53.7  54.7   \n",
       "Zimbabwe               33.70  33.70  ...  46.4  47.3  48.0  49.1  51.6  54.2   \n",
       "Åland                    NaN    NaN  ...   NaN   NaN   NaN   NaN   NaN   NaN   \n",
       "South Sudan            26.67  26.67  ...  55.5  55.6  55.8  56.0  55.9  56.0   \n",
       "\n",
       "                       2013  2014  2015   2016  \n",
       "country                                         \n",
       "Abkhazia                NaN   NaN   NaN    NaN  \n",
       "Afghanistan            54.8  54.9  53.8  52.72  \n",
       "Akrotiri and Dhekelia   NaN   NaN   NaN    NaN  \n",
       "Albania                77.7  77.9  78.0  78.10  \n",
       "Algeria                76.3  76.3  76.4  76.50  \n",
       "...                     ...   ...   ...    ...  \n",
       "Yugoslavia              NaN   NaN   NaN    NaN  \n",
       "Zambia                 55.6  56.3  56.7  57.10  \n",
       "Zimbabwe               55.7  57.0  59.3  61.69  \n",
       "Åland                   NaN   NaN   NaN    NaN  \n",
       "South Sudan            56.0  56.1  56.1  56.10  \n",
       "\n",
       "[260 rows x 217 columns]>"
      ]
     },
     "execution_count": 14,
     "metadata": {},
     "output_type": "execute_result"
    }
   ],
   "source": [
    "life.head"
   ]
  },
  {
   "cell_type": "code",
   "execution_count": 15,
   "id": "f6749bd6",
   "metadata": {},
   "outputs": [],
   "source": [
    "life = life.reset_index()\n",
    "life = life.melt(id_vars=['country'], var_name='year', value_name='life expectancy')"
   ]
  },
  {
   "cell_type": "code",
   "execution_count": 16,
   "id": "c84a0c1e",
   "metadata": {},
   "outputs": [
    {
     "data": {
      "text/html": [
       "<div>\n",
       "<style scoped>\n",
       "    .dataframe tbody tr th:only-of-type {\n",
       "        vertical-align: middle;\n",
       "    }\n",
       "\n",
       "    .dataframe tbody tr th {\n",
       "        vertical-align: top;\n",
       "    }\n",
       "\n",
       "    .dataframe thead th {\n",
       "        text-align: right;\n",
       "    }\n",
       "</style>\n",
       "<table border=\"1\" class=\"dataframe\">\n",
       "  <thead>\n",
       "    <tr style=\"text-align: right;\">\n",
       "      <th></th>\n",
       "      <th>country</th>\n",
       "      <th>year</th>\n",
       "      <th>life expectancy</th>\n",
       "    </tr>\n",
       "  </thead>\n",
       "  <tbody>\n",
       "    <tr>\n",
       "      <th>5179</th>\n",
       "      <td>United Kingdom</td>\n",
       "      <td>1819</td>\n",
       "      <td>40.52</td>\n",
       "    </tr>\n",
       "    <tr>\n",
       "      <th>28417</th>\n",
       "      <td>French Guiana</td>\n",
       "      <td>1909</td>\n",
       "      <td>30.50</td>\n",
       "    </tr>\n",
       "    <tr>\n",
       "      <th>10786</th>\n",
       "      <td>Liberia</td>\n",
       "      <td>1841</td>\n",
       "      <td>31.10</td>\n",
       "    </tr>\n",
       "    <tr>\n",
       "      <th>22849</th>\n",
       "      <td>Transnistria</td>\n",
       "      <td>1887</td>\n",
       "      <td>NaN</td>\n",
       "    </tr>\n",
       "    <tr>\n",
       "      <th>49131</th>\n",
       "      <td>Virgin Islands (U.S.)</td>\n",
       "      <td>1988</td>\n",
       "      <td>74.09</td>\n",
       "    </tr>\n",
       "  </tbody>\n",
       "</table>\n",
       "</div>"
      ],
      "text/plain": [
       "                     country  year  life expectancy\n",
       "5179          United Kingdom  1819            40.52\n",
       "28417          French Guiana  1909            30.50\n",
       "10786                Liberia  1841            31.10\n",
       "22849           Transnistria  1887              NaN\n",
       "49131  Virgin Islands (U.S.)  1988            74.09"
      ]
     },
     "execution_count": 16,
     "metadata": {},
     "output_type": "execute_result"
    }
   ],
   "source": [
    "life.sample(5)"
   ]
  },
  {
   "cell_type": "markdown",
   "id": "53c8a3e0",
   "metadata": {},
   "source": [
    "#### Data Wrangling: Population"
   ]
  },
  {
   "cell_type": "code",
   "execution_count": 17,
   "id": "48aff1c0",
   "metadata": {},
   "outputs": [
    {
     "data": {
      "text/plain": [
       "Int64Index([1800, 1810, 1820, 1830, 1840, 1850, 1860, 1870, 1880, 1890, 1900,\n",
       "            1910, 1920, 1930, 1940, 1950, 1951, 1952, 1953, 1954, 1955, 1956,\n",
       "            1957, 1958, 1959, 1960, 1961, 1962, 1963, 1964, 1965, 1966, 1967,\n",
       "            1968, 1969, 1970, 1971, 1972, 1973, 1974, 1975, 1976, 1977, 1978,\n",
       "            1979, 1980, 1981, 1982, 1983, 1984, 1985, 1986, 1987, 1988, 1989,\n",
       "            1990, 1991, 1992, 1993, 1994, 1995, 1996, 1997, 1998, 1999, 2000,\n",
       "            2001, 2002, 2003, 2004, 2005, 2006, 2007, 2008, 2009, 2010, 2011,\n",
       "            2012, 2013, 2014, 2015],\n",
       "           dtype='int64')"
      ]
     },
     "execution_count": 17,
     "metadata": {},
     "output_type": "execute_result"
    }
   ],
   "source": [
    "pop.columns = pop.columns.astype('int64')\n",
    "pop.columns"
   ]
  },
  {
   "cell_type": "code",
   "execution_count": 18,
   "id": "542b658e",
   "metadata": {},
   "outputs": [
    {
     "data": {
      "text/plain": [
       "Index(['Abkhazia', 'Afghanistan', 'Akrotiri and Dhekelia', 'Albania',\n",
       "       'Algeria', 'American Samoa', 'Andorra', 'Angola', 'Anguilla',\n",
       "       'Antigua and Barbuda',\n",
       "       ...\n",
       "       'British Indian Ocean Territory', 'Clipperton',\n",
       "       'French Southern and Antarctic Lands', 'Gaza Strip',\n",
       "       'Heard and McDonald Islands', 'Northern Marianas',\n",
       "       'South Georgia and the South Sandwich Islands',\n",
       "       'US Minor Outlying Islands', 'Virgin Islands', 'West Bank'],\n",
       "      dtype='object', name='country', length=275)"
      ]
     },
     "execution_count": 18,
     "metadata": {},
     "output_type": "execute_result"
    }
   ],
   "source": [
    "pop.index.name = 'country'\n",
    "pop.index"
   ]
  },
  {
   "cell_type": "code",
   "execution_count": 19,
   "id": "973c2108",
   "metadata": {},
   "outputs": [],
   "source": [
    "pop = pop.reset_index()\n",
    "pop = pop.melt(id_vars=['country'], var_name='year', value_name='population')"
   ]
  },
  {
   "cell_type": "code",
   "execution_count": 20,
   "id": "1b608812",
   "metadata": {},
   "outputs": [
    {
     "data": {
      "text/html": [
       "<div>\n",
       "<style scoped>\n",
       "    .dataframe tbody tr th:only-of-type {\n",
       "        vertical-align: middle;\n",
       "    }\n",
       "\n",
       "    .dataframe tbody tr th {\n",
       "        vertical-align: top;\n",
       "    }\n",
       "\n",
       "    .dataframe thead th {\n",
       "        text-align: right;\n",
       "    }\n",
       "</style>\n",
       "<table border=\"1\" class=\"dataframe\">\n",
       "  <thead>\n",
       "    <tr style=\"text-align: right;\">\n",
       "      <th></th>\n",
       "      <th>country</th>\n",
       "      <th>year</th>\n",
       "      <th>population</th>\n",
       "    </tr>\n",
       "  </thead>\n",
       "  <tbody>\n",
       "    <tr>\n",
       "      <th>803</th>\n",
       "      <td>South Yemen (former)</td>\n",
       "      <td>1820</td>\n",
       "      <td>NaN</td>\n",
       "    </tr>\n",
       "    <tr>\n",
       "      <th>19213</th>\n",
       "      <td>United Arab Emirates</td>\n",
       "      <td>2004</td>\n",
       "      <td>3975945.0</td>\n",
       "    </tr>\n",
       "    <tr>\n",
       "      <th>13780</th>\n",
       "      <td>British Virgin Islands</td>\n",
       "      <td>1985</td>\n",
       "      <td>13308.0</td>\n",
       "    </tr>\n",
       "    <tr>\n",
       "      <th>15755</th>\n",
       "      <td>Gambia</td>\n",
       "      <td>1992</td>\n",
       "      <td>979701.0</td>\n",
       "    </tr>\n",
       "    <tr>\n",
       "      <th>1343</th>\n",
       "      <td>Uzbekistan</td>\n",
       "      <td>1840</td>\n",
       "      <td>2308592.0</td>\n",
       "    </tr>\n",
       "  </tbody>\n",
       "</table>\n",
       "</div>"
      ],
      "text/plain": [
       "                      country  year  population\n",
       "803      South Yemen (former)  1820         NaN\n",
       "19213    United Arab Emirates  2004   3975945.0\n",
       "13780  British Virgin Islands  1985     13308.0\n",
       "15755                  Gambia  1992    979701.0\n",
       "1343               Uzbekistan  1840   2308592.0"
      ]
     },
     "execution_count": 20,
     "metadata": {},
     "output_type": "execute_result"
    }
   ],
   "source": [
    "pop.sample(5)"
   ]
  },
  {
   "cell_type": "code",
   "execution_count": 21,
   "id": "62644f19",
   "metadata": {},
   "outputs": [
    {
     "data": {
      "text/plain": [
       "(22275, 3)"
      ]
     },
     "execution_count": 21,
     "metadata": {},
     "output_type": "execute_result"
    }
   ],
   "source": [
    "pop.shape"
   ]
  },
  {
   "cell_type": "markdown",
   "id": "a0393853",
   "metadata": {},
   "source": [
    "#### Data Wrangling: Merging Dataset"
   ]
  },
  {
   "cell_type": "code",
   "execution_count": 22,
   "id": "558eb208",
   "metadata": {},
   "outputs": [
    {
     "data": {
      "text/html": [
       "<div>\n",
       "<style scoped>\n",
       "    .dataframe tbody tr th:only-of-type {\n",
       "        vertical-align: middle;\n",
       "    }\n",
       "\n",
       "    .dataframe tbody tr th {\n",
       "        vertical-align: top;\n",
       "    }\n",
       "\n",
       "    .dataframe thead th {\n",
       "        text-align: right;\n",
       "    }\n",
       "</style>\n",
       "<table border=\"1\" class=\"dataframe\">\n",
       "  <thead>\n",
       "    <tr style=\"text-align: right;\">\n",
       "      <th></th>\n",
       "      <th>country</th>\n",
       "      <th>year</th>\n",
       "      <th>fertility rate</th>\n",
       "      <th>life expectancy</th>\n",
       "      <th>population</th>\n",
       "      <th>continent</th>\n",
       "    </tr>\n",
       "  </thead>\n",
       "  <tbody>\n",
       "    <tr>\n",
       "      <th>10448</th>\n",
       "      <td>Qatar</td>\n",
       "      <td>2015</td>\n",
       "      <td>1.98</td>\n",
       "      <td>79.70</td>\n",
       "      <td>2235355.0</td>\n",
       "      <td>Asia</td>\n",
       "    </tr>\n",
       "    <tr>\n",
       "      <th>1777</th>\n",
       "      <td>Bosnia and Herzegovina</td>\n",
       "      <td>2011</td>\n",
       "      <td>1.26</td>\n",
       "      <td>78.20</td>\n",
       "      <td>3832310.0</td>\n",
       "      <td>Europe</td>\n",
       "    </tr>\n",
       "    <tr>\n",
       "      <th>11027</th>\n",
       "      <td>Serbia</td>\n",
       "      <td>1910</td>\n",
       "      <td>5.23</td>\n",
       "      <td>35.50</td>\n",
       "      <td>4726618.0</td>\n",
       "      <td>Europe</td>\n",
       "    </tr>\n",
       "    <tr>\n",
       "      <th>990</th>\n",
       "      <td>Bahrain</td>\n",
       "      <td>1953</td>\n",
       "      <td>6.95</td>\n",
       "      <td>43.26</td>\n",
       "      <td>123593.0</td>\n",
       "      <td>Asia</td>\n",
       "    </tr>\n",
       "    <tr>\n",
       "      <th>3518</th>\n",
       "      <td>Djibouti</td>\n",
       "      <td>1970</td>\n",
       "      <td>6.80</td>\n",
       "      <td>51.75</td>\n",
       "      <td>159667.0</td>\n",
       "      <td>Africa</td>\n",
       "    </tr>\n",
       "  </tbody>\n",
       "</table>\n",
       "</div>"
      ],
      "text/plain": [
       "                      country  year  fertility rate  life expectancy  \\\n",
       "10448                   Qatar  2015            1.98            79.70   \n",
       "1777   Bosnia and Herzegovina  2011            1.26            78.20   \n",
       "11027                  Serbia  1910            5.23            35.50   \n",
       "990                   Bahrain  1953            6.95            43.26   \n",
       "3518                 Djibouti  1970            6.80            51.75   \n",
       "\n",
       "       population continent  \n",
       "10448   2235355.0      Asia  \n",
       "1777    3832310.0    Europe  \n",
       "11027   4726618.0    Europe  \n",
       "990      123593.0      Asia  \n",
       "3518     159667.0    Africa  "
      ]
     },
     "execution_count": 22,
     "metadata": {},
     "output_type": "execute_result"
    }
   ],
   "source": [
    "df = fert\n",
    "df = df.merge(life)\n",
    "df = df.merge(pop)\n",
    "df = df.merge(cont)\n",
    "df.sample(5)"
   ]
  },
  {
   "cell_type": "code",
   "execution_count": 23,
   "id": "1e9f654d",
   "metadata": {},
   "outputs": [
    {
     "data": {
      "text/plain": [
       "(14175, 6)"
      ]
     },
     "execution_count": 23,
     "metadata": {},
     "output_type": "execute_result"
    }
   ],
   "source": [
    "df.shape"
   ]
  },
  {
   "cell_type": "code",
   "execution_count": 24,
   "id": "48a29838",
   "metadata": {},
   "outputs": [
    {
     "data": {
      "text/html": [
       "<div>\n",
       "<style scoped>\n",
       "    .dataframe tbody tr th:only-of-type {\n",
       "        vertical-align: middle;\n",
       "    }\n",
       "\n",
       "    .dataframe tbody tr th {\n",
       "        vertical-align: top;\n",
       "    }\n",
       "\n",
       "    .dataframe thead th {\n",
       "        text-align: right;\n",
       "    }\n",
       "</style>\n",
       "<table border=\"1\" class=\"dataframe\">\n",
       "  <thead>\n",
       "    <tr style=\"text-align: right;\">\n",
       "      <th></th>\n",
       "      <th>fertility rate</th>\n",
       "      <th>life expectancy</th>\n",
       "      <th>population</th>\n",
       "    </tr>\n",
       "  </thead>\n",
       "  <tbody>\n",
       "    <tr>\n",
       "      <th>count</th>\n",
       "      <td>13446.000000</td>\n",
       "      <td>13524.000000</td>\n",
       "      <td>1.417500e+04</td>\n",
       "    </tr>\n",
       "    <tr>\n",
       "      <th>mean</th>\n",
       "      <td>4.629932</td>\n",
       "      <td>57.230718</td>\n",
       "      <td>2.195050e+07</td>\n",
       "    </tr>\n",
       "    <tr>\n",
       "      <th>std</th>\n",
       "      <td>2.005239</td>\n",
       "      <td>15.934300</td>\n",
       "      <td>9.455613e+07</td>\n",
       "    </tr>\n",
       "    <tr>\n",
       "      <th>min</th>\n",
       "      <td>1.130000</td>\n",
       "      <td>4.000000</td>\n",
       "      <td>1.834000e+03</td>\n",
       "    </tr>\n",
       "    <tr>\n",
       "      <th>25%</th>\n",
       "      <td>2.610000</td>\n",
       "      <td>44.637500</td>\n",
       "      <td>6.332360e+05</td>\n",
       "    </tr>\n",
       "    <tr>\n",
       "      <th>50%</th>\n",
       "      <td>5.010000</td>\n",
       "      <td>60.615000</td>\n",
       "      <td>3.628079e+06</td>\n",
       "    </tr>\n",
       "    <tr>\n",
       "      <th>75%</th>\n",
       "      <td>6.460000</td>\n",
       "      <td>70.742500</td>\n",
       "      <td>1.089350e+07</td>\n",
       "    </tr>\n",
       "    <tr>\n",
       "      <th>max</th>\n",
       "      <td>9.220000</td>\n",
       "      <td>84.800000</td>\n",
       "      <td>1.376049e+09</td>\n",
       "    </tr>\n",
       "  </tbody>\n",
       "</table>\n",
       "</div>"
      ],
      "text/plain": [
       "       fertility rate  life expectancy    population\n",
       "count    13446.000000     13524.000000  1.417500e+04\n",
       "mean         4.629932        57.230718  2.195050e+07\n",
       "std          2.005239        15.934300  9.455613e+07\n",
       "min          1.130000         4.000000  1.834000e+03\n",
       "25%          2.610000        44.637500  6.332360e+05\n",
       "50%          5.010000        60.615000  3.628079e+06\n",
       "75%          6.460000        70.742500  1.089350e+07\n",
       "max          9.220000        84.800000  1.376049e+09"
      ]
     },
     "execution_count": 24,
     "metadata": {},
     "output_type": "execute_result"
    }
   ],
   "source": [
    "df.describe()"
   ]
  },
  {
   "cell_type": "code",
   "execution_count": 25,
   "id": "7b73dbc8",
   "metadata": {},
   "outputs": [
    {
     "data": {
      "text/html": [
       "<div>\n",
       "<style scoped>\n",
       "    .dataframe tbody tr th:only-of-type {\n",
       "        vertical-align: middle;\n",
       "    }\n",
       "\n",
       "    .dataframe tbody tr th {\n",
       "        vertical-align: top;\n",
       "    }\n",
       "\n",
       "    .dataframe thead th {\n",
       "        text-align: right;\n",
       "    }\n",
       "</style>\n",
       "<table border=\"1\" class=\"dataframe\">\n",
       "  <thead>\n",
       "    <tr style=\"text-align: right;\">\n",
       "      <th></th>\n",
       "      <th>country</th>\n",
       "      <th>year</th>\n",
       "      <th>fertility rate</th>\n",
       "      <th>life expectancy</th>\n",
       "      <th>population</th>\n",
       "      <th>continent</th>\n",
       "      <th>flag</th>\n",
       "    </tr>\n",
       "  </thead>\n",
       "  <tbody>\n",
       "    <tr>\n",
       "      <th>0</th>\n",
       "      <td>Afghanistan</td>\n",
       "      <td>1800</td>\n",
       "      <td>7.0</td>\n",
       "      <td>28.21</td>\n",
       "      <td>3280000.0</td>\n",
       "      <td>Asia</td>\n",
       "      <td></td>\n",
       "    </tr>\n",
       "    <tr>\n",
       "      <th>1</th>\n",
       "      <td>Afghanistan</td>\n",
       "      <td>1810</td>\n",
       "      <td>7.0</td>\n",
       "      <td>28.11</td>\n",
       "      <td>3280000.0</td>\n",
       "      <td>Asia</td>\n",
       "      <td></td>\n",
       "    </tr>\n",
       "    <tr>\n",
       "      <th>2</th>\n",
       "      <td>Afghanistan</td>\n",
       "      <td>1820</td>\n",
       "      <td>7.0</td>\n",
       "      <td>28.01</td>\n",
       "      <td>3323519.0</td>\n",
       "      <td>Asia</td>\n",
       "      <td></td>\n",
       "    </tr>\n",
       "    <tr>\n",
       "      <th>3</th>\n",
       "      <td>Afghanistan</td>\n",
       "      <td>1830</td>\n",
       "      <td>7.0</td>\n",
       "      <td>27.90</td>\n",
       "      <td>3448982.0</td>\n",
       "      <td>Asia</td>\n",
       "      <td></td>\n",
       "    </tr>\n",
       "    <tr>\n",
       "      <th>4</th>\n",
       "      <td>Afghanistan</td>\n",
       "      <td>1840</td>\n",
       "      <td>7.0</td>\n",
       "      <td>27.80</td>\n",
       "      <td>3625022.0</td>\n",
       "      <td>Asia</td>\n",
       "      <td></td>\n",
       "    </tr>\n",
       "  </tbody>\n",
       "</table>\n",
       "</div>"
      ],
      "text/plain": [
       "       country  year  fertility rate  life expectancy  population continent  \\\n",
       "0  Afghanistan  1800             7.0            28.21   3280000.0      Asia   \n",
       "1  Afghanistan  1810             7.0            28.11   3280000.0      Asia   \n",
       "2  Afghanistan  1820             7.0            28.01   3323519.0      Asia   \n",
       "3  Afghanistan  1830             7.0            27.90   3448982.0      Asia   \n",
       "4  Afghanistan  1840             7.0            27.80   3625022.0      Asia   \n",
       "\n",
       "  flag  \n",
       "0       \n",
       "1       \n",
       "2       \n",
       "3       \n",
       "4       "
      ]
     },
     "execution_count": 25,
     "metadata": {},
     "output_type": "execute_result"
    }
   ],
   "source": [
    "# Add a flag column to be used later for plotting\n",
    "it_mask = df['country'] == 'Italy'\n",
    "de_mask = df['country'] == 'Germany'\n",
    "ch_mask = df['country'] == 'China'\n",
    "tot_mask = it_mask | de_mask | ch_mask\n",
    "df['flag'] = tot_mask\n",
    "\n",
    "df.loc[df[\"flag\"] == False, [\"flag\"]] = ''\n",
    "\n",
    "mask_it = (df['flag'] == True) & (df['country'] == 'Italy')\n",
    "mask_de = (df['flag'] == True) & (df['country'] == 'Germany')\n",
    "mask_ch = (df['flag'] == True) & (df['country'] == 'China')\n",
    "df.loc[mask_it, 'flag'] = 'Italy'\n",
    "df.loc[mask_de, 'flag'] = 'Germany'\n",
    "df.loc[mask_ch, 'flag'] = 'China'\n",
    "\n",
    "#df.head()"
   ]
  },
  {
   "cell_type": "markdown",
   "id": "4cdd714e",
   "metadata": {},
   "source": [
    "#### Plotting "
   ]
  },
  {
   "cell_type": "code",
   "execution_count": null,
   "id": "cd7e2956",
   "metadata": {},
   "outputs": [],
   "source": [
    "# Example Scatterplot for year 2000\n",
    "year = 2000\n",
    "df_yearly = df.loc[df['year'] ==year]\n",
    "df_yearly.sample(5)"
   ]
  },
  {
   "cell_type": "code",
   "execution_count": null,
   "id": "623d5f95",
   "metadata": {},
   "outputs": [],
   "source": [
    "gp = sns.scatterplot(x='life expectancy',\n",
    "                y='fertility rate',\n",
    "                data=df_yearly,\n",
    "                size='population',\n",
    "                sizes=((10, 1000)),\n",
    "                hue='continent',\n",
    "                alpha=0.6)\n",
    "\n",
    "plt.title('Life expectancy per country')\n",
    "plt.xlabel('life expectancy [year]')\n",
    "plt.ylabel('fertility rate [child]')\n",
    "plt.axis([20, 100, 0, 10])\n",
    "\n",
    "f-two-legends-from-seaborn-scatterplot\n",
    "h,l = gp.get_legend_handles_labels()\n",
    "leg = plt.legend(h[0:7],l[0:7],bbox_to_anchor=(0.75, 1), loc=2, frameon=False, fontsize=8)\n",
    "leg.get_texts()[4].set_text('N. America')\n",
    "leg.get_texts()[5].set_text('S. America')\n",
    "leg.get_texts()[6].set_text('Aus. & Oc.')\n",
    "#plt.gca().get_legend().remove()\n",
    "\n",
    "x_min = plt.gca().get_xlim()[0]\n",
    "y_min = plt.gca().get_ylim()[0]\n",
    "\n",
    "for idx, row in df_yearly.iterrows():\n",
    "    plt.gca().annotate(row['flag'], (row['life expectancy'], row['fertility rate']), fontsize=8)\n",
    "\n",
    "plt.text(x_min+5, y_min+1, str(year), fontsize='large', weight='semibold', color='black')"
   ]
  },
  {
   "cell_type": "code",
   "execution_count": null,
   "id": "18d1e423",
   "metadata": {},
   "outputs": [],
   "source": [
    "# Plotting over years\n",
    "\n",
    "for yy in range(1960,2016,1):\n",
    "    df_yearly = df.loc[df['year'] == yy]    \n",
    "    gp = sns.scatterplot(x='life expectancy',\n",
    "                    y='fertility rate',\n",
    "                    data=df_yearly,\n",
    "                    size='population',\n",
    "                    sizes=((10, 1000)),\n",
    "                    hue='continent',\n",
    "                    alpha=0.6)\n",
    "    plt.title('Life expectancy per country')\n",
    "    plt.xlabel('life expectancy [year]')\n",
    "    plt.ylabel('fertility rate [child]')\n",
    "    plt.axis([20, 100, 0, 10])\n",
    "    h,l = gp.get_legend_handles_labels()\n",
    "    leg = plt.legend(h[0:7],l[0:7],bbox_to_anchor=(0.75, 1), loc=2, frameon=False, fontsize=8)\n",
    "    leg.get_texts()[4].set_text('N. America')\n",
    "    leg.get_texts()[5].set_text('S. America')\n",
    "    leg.get_texts()[6].set_text('Aus. & Oc.')\n",
    "    x_min = plt.gca().get_xlim()[0]\n",
    "    y_min = plt.gca().get_ylim()[0]\n",
    "    for idx, row in df_yearly.iterrows():\n",
    "        plt.gca().annotate(row['flag'], (row['life expectancy'], row['fertility rate']))\n",
    "    plt.text(x_min+5, y_min+1, str(yy), fontsize='large', weight='semibold', color='black')\n",
    "    plt.text(x_min+67, y_min+0.2, fontsize='xx-small', weight='normal', style='italic', color='black')\n",
    "    plt.savefig('DF')\n",
    "    plt.close()"
   ]
  },
  {
   "cell_type": "code",
   "execution_count": null,
   "id": "5b6f7d16",
   "metadata": {},
   "outputs": [],
   "source": [
    "images = []\n",
    "\n",
    "for i in range(1960,2016,1):\n",
    "     filename = 'DF.png'.format(i)\n",
    "     images.append(imageio.imread(filename))\n",
    "\n",
    "imageio.mimsave('../output/gapminder_output.gif', images, fps=20)"
   ]
  },
  {
   "cell_type": "code",
   "execution_count": null,
   "id": "2b6298c9",
   "metadata": {},
   "outputs": [],
   "source": [
    "from IPython.display import Image\n",
    "#Image('../output/gapminder_output.gif', width = 500, height = 300)\n",
    "Image('../output/gapminder_output.gif')"
   ]
  }
 ],
 "metadata": {
  "kernelspec": {
   "display_name": "Python 3.7 (tensorflow)",
   "language": "python",
   "name": "tensorflow"
  },
  "language_info": {
   "codemirror_mode": {
    "name": "ipython",
    "version": 3
   },
   "file_extension": ".py",
   "mimetype": "text/x-python",
   "name": "python",
   "nbconvert_exporter": "python",
   "pygments_lexer": "ipython3",
   "version": "3.8.13"
  }
 },
 "nbformat": 4,
 "nbformat_minor": 5
}
